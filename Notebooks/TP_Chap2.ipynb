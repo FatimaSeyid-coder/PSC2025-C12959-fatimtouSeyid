{
 "cells": [
  {
   "cell_type": "code",
   "execution_count": 8,
   "id": "636118a0-a29e-46e4-b8ef-4c0b58a04ad7",
   "metadata": {},
   "outputs": [
    {
     "name": "stdout",
     "output_type": "stream",
     "text": [
      "9.715\n",
      "Non! f(x) != 0\n"
     ]
    }
   ],
   "source": [
    "#Ex. 1\n",
    "def f(x):\n",
    "    return x**2 - 0.25*x + 5\n",
    "\n",
    "x = 2.3\n",
    "result = f(x)\n",
    "\n",
    "print(result)\n",
    "if result == 0:\n",
    "    print('yes! f(x) = 0')\n",
    "else:\n",
    "    print('Non! f(x) != 0')"
   ]
  },
  {
   "cell_type": "code",
   "execution_count": 28,
   "id": "802d147f-3da4-4211-be1b-fcc55cf33a1c",
   "metadata": {},
   "outputs": [
    {
     "name": "stdout",
     "output_type": "stream",
     "text": [
      "Convergence\n"
     ]
    }
   ],
   "source": [
    "#Ex. 4\n",
    "u = 1.0  # you have to use a float here!\n",
    "uold = 10.  \n",
    "for iteration in range(2000):\n",
    "    if not abs(u - uold) > 1.e-8:\n",
    "        print('Convergence')\n",
    "        break # sequence has converged\n",
    "    uold = u\n",
    "    u = 2 * u\n",
    "else:\n",
    "    print('No convergence') "
   ]
  },
  {
   "cell_type": "code",
   "execution_count": 22,
   "id": "abea6b4e-854c-4aab-befb-214e3525cda8",
   "metadata": {},
   "outputs": [
    {
     "data": {
      "text/plain": [
       "\"1. Non i get the message 'Convergence' so the line the sequence has converged\""
      ]
     },
     "execution_count": 22,
     "metadata": {},
     "output_type": "execute_result"
    }
   ],
   "source": [
    "'''1. Non i get the message 'Convergence' so the line the sequence has converged'''"
   ]
  },
  {
   "cell_type": "code",
   "execution_count": 30,
   "id": "398f810d-1acc-4b0b-a4e7-2392b03d752d",
   "metadata": {},
   "outputs": [
    {
     "name": "stdout",
     "output_type": "stream",
     "text": [
      "No convergence\n"
     ]
    }
   ],
   "source": [
    "u = 1.0  # you have to use a float here!\n",
    "uold = 10.  \n",
    "for iteration in range(2000):\n",
    "    if abs(u - uold) < 1.e-8:\n",
    "        print('Convergence')\n",
    "        break # sequence has converged\n",
    "    uold = u\n",
    "    u = 2 * u\n",
    "else:\n",
    "    print('No convergence') "
   ]
  },
  {
   "cell_type": "code",
   "execution_count": null,
   "id": "eb9c84cf-6cab-4892-9f53-6ebe15ceb0f2",
   "metadata": {},
   "outputs": [],
   "source": [
    "'''2. It returns the message 'No convergence' is different '''"
   ]
  },
  {
   "cell_type": "code",
   "execution_count": 32,
   "id": "c2cee9f1-69e7-4ccf-8c17-5ca624a9b70d",
   "metadata": {},
   "outputs": [
    {
     "name": "stdout",
     "output_type": "stream",
     "text": [
      "No convergence\n"
     ]
    }
   ],
   "source": [
    "u = 1  # you have to use a float here!\n",
    "uold = 10.  \n",
    "for iteration in range(2000):\n",
    "    if not abs(u - uold) > 1.e-8:\n",
    "        print('Convergence')\n",
    "        break # sequence has converged\n",
    "    uold = u\n",
    "    u = 2 * u\n",
    "else:\n",
    "    print('No convergence') "
   ]
  },
  {
   "cell_type": "code",
   "execution_count": 34,
   "id": "2df93c9a-9712-433b-9912-63b4b0b935f5",
   "metadata": {},
   "outputs": [
    {
     "data": {
      "text/plain": [
       "\" 3. i get the message 'No Convergence\""
      ]
     },
     "execution_count": 34,
     "metadata": {},
     "output_type": "execute_result"
    }
   ],
   "source": [
    "''' 3. i get the message 'No Convergence'''"
   ]
  },
  {
   "cell_type": "code",
   "execution_count": 36,
   "id": "272557fd-290f-462e-a85a-15ffbf482ebd",
   "metadata": {},
   "outputs": [
    {
     "name": "stdout",
     "output_type": "stream",
     "text": [
      "No convergence\n"
     ]
    }
   ],
   "source": [
    "u = 1  # you have to use a float here!\n",
    "uold = 10.  \n",
    "for iteration in range(2000):\n",
    "    if abs(u - uold) < 1.e-8:\n",
    "        print('Convergence')\n",
    "        break # sequence has converged\n",
    "    uold = u\n",
    "    u = 2 * u\n",
    "else:\n",
    "    print('No convergence') "
   ]
  },
  {
   "cell_type": "code",
   "execution_count": 38,
   "id": "2484182d-4c4f-4432-8f4c-d90dba4ed482",
   "metadata": {},
   "outputs": [
    {
     "data": {
      "text/plain": [
       "' it is the same reesult.'"
      ]
     },
     "execution_count": 38,
     "metadata": {},
     "output_type": "execute_result"
    }
   ],
   "source": [
    "''' it is the same reesult.'''"
   ]
  },
  {
   "cell_type": "code",
   "execution_count": null,
   "id": "30eeb8de-85bd-4246-969f-152017a59483",
   "metadata": {},
   "outputs": [],
   "source": []
  }
 ],
 "metadata": {
  "kernelspec": {
   "display_name": "Python 3 (ipykernel)",
   "language": "python",
   "name": "python3"
  },
  "language_info": {
   "codemirror_mode": {
    "name": "ipython",
    "version": 3
   },
   "file_extension": ".py",
   "mimetype": "text/x-python",
   "name": "python",
   "nbconvert_exporter": "python",
   "pygments_lexer": "ipython3",
   "version": "3.12.7"
  }
 },
 "nbformat": 4,
 "nbformat_minor": 5
}
