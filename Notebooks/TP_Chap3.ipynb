{
 "cells": [
  {
   "cell_type": "code",
   "execution_count": 2,
   "id": "9675498a-ce5c-42f6-9ab7-25a460b4d68d",
   "metadata": {},
   "outputs": [
    {
     "data": {
      "text/plain": [
       "[1, 2, 1, 2, 1, 2]"
      ]
     },
     "execution_count": 2,
     "metadata": {},
     "output_type": "execute_result"
    }
   ],
   "source": [
    "#Ex.1\n",
    "#1.\n",
    "L = [1, 2]\n",
    "L3 = 3*L\n",
    "L3"
   ]
  },
  {
   "cell_type": "code",
   "execution_count": 4,
   "id": "ad1fc876-4c1c-4104-b7f7-2ebea9f39d75",
   "metadata": {},
   "outputs": [],
   "source": [
    "#2.\n",
    "#L3[0] => 1\n",
    "#L3[-1] => 2\n",
    "#L3[10] => erro L3 hay 6 elements only"
   ]
  },
  {
   "cell_type": "code",
   "execution_count": 12,
   "id": "4bcd6ab5-354f-4437-9f69-6a7716a58656",
   "metadata": {},
   "outputs": [],
   "source": [
    "#3.\n",
    "L4 = [k**2 for k in L3] #this will l3's elements^2 the elements of L4 so => [1, 4, 1, 4, 1, 4}"
   ]
  },
  {
   "cell_type": "code",
   "execution_count": 14,
   "id": "afb8f135-8945-4553-bcbb-6ee845fd222b",
   "metadata": {},
   "outputs": [
    {
     "data": {
      "text/plain": [
       "[1, 2, 1, 2, 1, 2, 1, 4, 1, 4, 1, 4]"
      ]
     },
     "execution_count": 14,
     "metadata": {},
     "output_type": "execute_result"
    }
   ],
   "source": [
    "L5 = L3 + L4\n",
    "L5"
   ]
  },
  {
   "cell_type": "code",
   "execution_count": 16,
   "id": "e1d75a2e-186a-4b88-92d6-396a916da01d",
   "metadata": {},
   "outputs": [],
   "source": [
    "#Ex. 3\n",
    " L = [0,1,2,1,0,-1,-2,-1,0] \n",
    "\n",
    "L[0]  # [0]\n",
    "L[-1]  # [0]\n",
    "L[:-1] # [0,1,2,1,0,-1,-2,-1,0]\n",
    "\n",
    "L[1:-1] # [1,2,1,0,-1,-2,-1,0]\n",
    "L + L[1:-1] + L # [0,1,2,1,0,-1,-2,-1,0] + [1,2,1,0,-1,-2,-1,0] + [0,1,2,1,0,-1,-2,-1,0] \n",
    "# [0,1,2,1,0,-1,-2,-1,0,1,2,1,0,-1,-2,-1,0,0,1,2,1,0,-1,-2,-1,0]\n",
    "L[2:2] = [-3] # [0,1,2,-3,1,0,-1,-2,-1,0]\n",
    "L[3:4] = [] # [0,1,2,1,0,-1,-2,-1,0]\n",
    "L[2:5] = [-5] # [0,1,-5,-1,-2,-1,0]"
   ]
  },
  {
   "cell_type": "code",
   "execution_count": null,
   "id": "037cbaf7-a5af-43c7-8860-5dc94e1de617",
   "metadata": {},
   "outputs": [],
   "source": []
  }
 ],
 "metadata": {
  "kernelspec": {
   "display_name": "Python 3 (ipykernel)",
   "language": "python",
   "name": "python3"
  },
  "language_info": {
   "codemirror_mode": {
    "name": "ipython",
    "version": 3
   },
   "file_extension": ".py",
   "mimetype": "text/x-python",
   "name": "python",
   "nbconvert_exporter": "python",
   "pygments_lexer": "ipython3",
   "version": "3.12.7"
  }
 },
 "nbformat": 4,
 "nbformat_minor": 5
}
